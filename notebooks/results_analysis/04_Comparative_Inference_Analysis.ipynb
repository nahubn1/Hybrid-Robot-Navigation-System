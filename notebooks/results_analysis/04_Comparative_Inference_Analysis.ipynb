{
 "cells": [
  {
   "cell_type": "markdown",
   "id": "63a43f37",
   "metadata": {},
   "source": [
    "# Comparative Inference Analysis"
   ]
  },
  {
   "cell_type": "code",
   "execution_count": null,
   "id": "5907805b",
   "metadata": {},
   "outputs": [],
   "source": [
    "\n",
    "from pathlib import Path\n",
    "import numpy as np\n",
    "from torch.utils.data import DataLoader\n",
    "\n",
    "from dnn_guidance.data_loader import PathfindingDataset\n",
    "from dnn_guidance.inference import InferenceHandler\n",
    "from dnn_guidance.model import UNetFiLM, HRFiLMNet, ResNetFPNFiLM\n",
    "from utils.visualization import plot_inference_comparison\n"
   ]
  },
  {
   "cell_type": "code",
   "execution_count": null,
   "id": "365dced7",
   "metadata": {},
   "outputs": [],
   "source": [
    "\n",
    "# Map model names to (class, checkpoint path)\n",
    "MODEL_REGISTRY = {\n",
    "    'UNet-FiLM': (UNetFiLM, Path('models/dnn_guidance/unet_film.pth')),\n",
    "    'HR-FiLM-Net': (HRFiLMNet, Path('models/dnn_guidance/hr_film_net.pth')),\n",
    "    'ResNet-FPN-FiLM': (ResNetFPNFiLM, Path('models/dnn_guidance/resnet_fpn_film.pth')),\n",
    "}\n"
   ]
  },
  {
   "cell_type": "code",
   "execution_count": null,
   "id": "8672aff7",
   "metadata": {},
   "outputs": [],
   "source": [
    "\n",
    "# Create test DataLoader\n",
    "samples_dir = Path('data/processed/test/samples')\n",
    "gt_dir = Path('data/processed/test/heatmaps')\n",
    "dataset = PathfindingDataset(samples_dir, gt_dir, augment=False)\n",
    "loader = DataLoader(dataset, batch_size=1, shuffle=False)\n"
   ]
  },
  {
   "cell_type": "code",
   "execution_count": null,
   "id": "238d76af",
   "metadata": {},
   "outputs": [],
   "source": [
    "\n",
    "for (grid_tensor, robot_tensor), heatmap_tensor in loader:\n",
    "    g = grid_tensor.squeeze(0).numpy()\n",
    "    start = g[0] > 0.5\n",
    "    goal = g[1] > 0.5\n",
    "    obstacles = g[3] > 0.5\n",
    "    grid = np.zeros_like(obstacles, dtype=np.uint8)\n",
    "    grid[obstacles] = 1\n",
    "    grid[start] = 8\n",
    "    grid[goal] = 9\n",
    "    robot = robot_tensor.squeeze(0).numpy()\n",
    "    gt_heatmap = heatmap_tensor.squeeze().numpy()\n",
    "    predictions_to_plot = {}\n",
    "    for name, (cls, ckpt) in MODEL_REGISTRY.items():\n",
    "        handler = InferenceHandler(cls, ckpt, device='cpu')\n",
    "        heatmap = handler.predict(grid, robot)\n",
    "        predictions_to_plot[name] = heatmap\n",
    "    plot_inference_comparison({\n",
    "        'input_grid': grid,\n",
    "        'ground_truth_heatmap': gt_heatmap,\n",
    "        'predictions': predictions_to_plot,\n",
    "    })\n",
    "    break\n"
  ]
 },
  {
   "cell_type": "markdown",
   "id": "db25273b",
   "metadata": {},
   "source": [
    "Analysis notes go here."
   ]
  }
 ],
 "metadata": {},
 "nbformat": 4,
 "nbformat_minor": 5
}
