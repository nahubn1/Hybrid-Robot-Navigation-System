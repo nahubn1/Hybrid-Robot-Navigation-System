{
  "cells": [
    {
      "cell_type": "markdown",
      "metadata": {
        "id": "view-in-github",
        "colab_type": "text"
      },
      "source": [
        "<a href=\"https://colab.research.google.com/github/nahubn1/Hybrid-Robot-Navigation-System/blob/main/notebooks/model_prototyping/FiLM_Model_Training_Guide.ipynb\" target=\"_parent\"><img src=\"https://colab.research.google.com/assets/colab-badge.svg\" alt=\"Open In Colab\"/></a>"
      ]
    },
    {
      "cell_type": "markdown",
      "metadata": {
        "id": "kpXJOJmryjKD"
      },
      "source": [
        "# FiLM Model Training Guide\n",
        "This notebook demonstrates how to train various FiLM-based neural networks for pathfinding tasks.\n",
        "We will configure the environment, prepare the dataset, define a model architecture and run training.\n"
      ],
      "id": "kpXJOJmryjKD"
    },
    {
      "cell_type": "code",
      "execution_count": 1,
      "id": "WPy4XKZqRhXI",
      "metadata": {
        "colab": {
          "base_uri": "https://localhost:8080/"
        },
        "id": "WPy4XKZqRhXI",
        "outputId": "50116848-eea2-46e0-e2c4-9219c9253445"
      },
      "outputs": [
        {
          "output_type": "stream",
          "name": "stdout",
          "text": [
            "Mounted at /content/drive\n"
          ]
        }
      ],
      "source": [
        "from google.colab import drive\n",
        "drive.mount('/content/drive')"
      ]
    },
    {
      "cell_type": "code",
      "execution_count": 2,
      "id": "gwVlGFyGSAVS",
      "metadata": {
        "colab": {
          "base_uri": "https://localhost:8080/"
        },
        "id": "gwVlGFyGSAVS",
        "outputId": "7f8a0676-2259-4f33-8f38-530231f43a6f",
        "collapsed": true
      },
      "outputs": [
        {
          "output_type": "stream",
          "name": "stdout",
          "text": [
            "Cloning into '/content/Thesis_Project'...\n",
            "remote: Enumerating objects: 1044, done.\u001b[K\n",
            "remote: Counting objects: 100% (99/99), done.\u001b[K\n",
            "remote: Compressing objects: 100% (78/78), done.\u001b[K\n",
            "remote: Total 1044 (delta 31), reused 21 (delta 21), pack-reused 945 (from 1)\u001b[K\n",
            "Receiving objects: 100% (1044/1044), 494.98 KiB | 1.86 MiB/s, done.\n",
            "Resolving deltas: 100% (650/650), done.\n",
            "Already up to date.\n"
          ]
        }
      ],
      "source": [
        "import os\n",
        "COLAB_PROJECT_ROOT = '/content/Thesis_Project'\n",
        "if not os.path.exists(COLAB_PROJECT_ROOT):\n",
        "  !git clone https://github.com/nahubn1/Hybrid-Robot-Navigation-System {COLAB_PROJECT_ROOT}\n",
        "os.chdir(COLAB_PROJECT_ROOT) # Change directory into the project\n",
        "!git pull # Ensure it's the latest version"
      ]
    },
    {
      "cell_type": "markdown",
      "metadata": {
        "id": "yTVJHJ48yjKG"
      },
      "source": [
        "## Environment Setup\n",
        "The following cells mount Google Drive, clone the project repository and install requirements.\n"
      ],
      "id": "yTVJHJ48yjKG"
    },
    {
      "cell_type": "code",
      "execution_count": 4,
      "id": "QMwq7BT7SIqp",
      "metadata": {
        "colab": {
          "base_uri": "https://localhost:8080/"
        },
        "id": "QMwq7BT7SIqp",
        "outputId": "f6f8bb52-146a-4b48-bcd6-42b28e33e1b4"
      },
      "outputs": [
        {
          "output_type": "stream",
          "name": "stdout",
          "text": [
            "Requirement already satisfied: pybullet==3.2.7 in /usr/local/lib/python3.11/dist-packages (from -r environment/requirements.txt (line 1)) (3.2.7)\n",
            "Requirement already satisfied: numpy>=1.24 in /usr/local/lib/python3.11/dist-packages (from -r environment/requirements.txt (line 2)) (2.0.2)\n",
            "Requirement already satisfied: pyyaml>=6.0 in /usr/local/lib/python3.11/dist-packages (from -r environment/requirements.txt (line 3)) (6.0.2)\n",
            "Requirement already satisfied: networkx>=3.1 in /usr/local/lib/python3.11/dist-packages (from -r environment/requirements.txt (line 4)) (3.5)\n",
            "Requirement already satisfied: pytest>=8.0 in /usr/local/lib/python3.11/dist-packages (from -r environment/requirements.txt (line 5)) (8.3.5)\n",
            "Requirement already satisfied: matplotlib>=3.8 in /usr/local/lib/python3.11/dist-packages (from -r environment/requirements.txt (line 6)) (3.10.0)\n",
            "Requirement already satisfied: pillow>=10.0 in /usr/local/lib/python3.11/dist-packages (from -r environment/requirements.txt (line 7)) (11.2.1)\n",
            "Requirement already satisfied: tqdm>=4.66 in /usr/local/lib/python3.11/dist-packages (from -r environment/requirements.txt (line 8)) (4.67.1)\n",
            "Requirement already satisfied: scipy>=1.11 in /usr/local/lib/python3.11/dist-packages (from -r environment/requirements.txt (line 9)) (1.15.3)\n",
            "Requirement already satisfied: filelock>=3.13 in /usr/local/lib/python3.11/dist-packages (from -r environment/requirements.txt (line 10)) (3.18.0)\n",
            "Requirement already satisfied: torch>=2.0 in /usr/local/lib/python3.11/dist-packages (from -r environment/requirements.txt (line 11)) (2.6.0+cu124)\n",
            "Requirement already satisfied: iniconfig in /usr/local/lib/python3.11/dist-packages (from pytest>=8.0->-r environment/requirements.txt (line 5)) (2.1.0)\n",
            "Requirement already satisfied: packaging in /usr/local/lib/python3.11/dist-packages (from pytest>=8.0->-r environment/requirements.txt (line 5)) (25.0)\n",
            "Requirement already satisfied: pluggy<2,>=1.5 in /usr/local/lib/python3.11/dist-packages (from pytest>=8.0->-r environment/requirements.txt (line 5)) (1.6.0)\n",
            "Requirement already satisfied: contourpy>=1.0.1 in /usr/local/lib/python3.11/dist-packages (from matplotlib>=3.8->-r environment/requirements.txt (line 6)) (1.3.2)\n",
            "Requirement already satisfied: cycler>=0.10 in /usr/local/lib/python3.11/dist-packages (from matplotlib>=3.8->-r environment/requirements.txt (line 6)) (0.12.1)\n",
            "Requirement already satisfied: fonttools>=4.22.0 in /usr/local/lib/python3.11/dist-packages (from matplotlib>=3.8->-r environment/requirements.txt (line 6)) (4.58.5)\n",
            "Requirement already satisfied: kiwisolver>=1.3.1 in /usr/local/lib/python3.11/dist-packages (from matplotlib>=3.8->-r environment/requirements.txt (line 6)) (1.4.8)\n",
            "Requirement already satisfied: pyparsing>=2.3.1 in /usr/local/lib/python3.11/dist-packages (from matplotlib>=3.8->-r environment/requirements.txt (line 6)) (3.2.3)\n",
            "Requirement already satisfied: python-dateutil>=2.7 in /usr/local/lib/python3.11/dist-packages (from matplotlib>=3.8->-r environment/requirements.txt (line 6)) (2.9.0.post0)\n",
            "Requirement already satisfied: typing-extensions>=4.10.0 in /usr/local/lib/python3.11/dist-packages (from torch>=2.0->-r environment/requirements.txt (line 11)) (4.14.1)\n",
            "Requirement already satisfied: jinja2 in /usr/local/lib/python3.11/dist-packages (from torch>=2.0->-r environment/requirements.txt (line 11)) (3.1.6)\n",
            "Requirement already satisfied: fsspec in /usr/local/lib/python3.11/dist-packages (from torch>=2.0->-r environment/requirements.txt (line 11)) (2025.3.2)\n",
            "Requirement already satisfied: nvidia-cuda-nvrtc-cu12==12.4.127 in /usr/local/lib/python3.11/dist-packages (from torch>=2.0->-r environment/requirements.txt (line 11)) (12.4.127)\n",
            "Requirement already satisfied: nvidia-cuda-runtime-cu12==12.4.127 in /usr/local/lib/python3.11/dist-packages (from torch>=2.0->-r environment/requirements.txt (line 11)) (12.4.127)\n",
            "Requirement already satisfied: nvidia-cuda-cupti-cu12==12.4.127 in /usr/local/lib/python3.11/dist-packages (from torch>=2.0->-r environment/requirements.txt (line 11)) (12.4.127)\n",
            "Requirement already satisfied: nvidia-cudnn-cu12==9.1.0.70 in /usr/local/lib/python3.11/dist-packages (from torch>=2.0->-r environment/requirements.txt (line 11)) (9.1.0.70)\n",
            "Requirement already satisfied: nvidia-cublas-cu12==12.4.5.8 in /usr/local/lib/python3.11/dist-packages (from torch>=2.0->-r environment/requirements.txt (line 11)) (12.4.5.8)\n",
            "Requirement already satisfied: nvidia-cufft-cu12==11.2.1.3 in /usr/local/lib/python3.11/dist-packages (from torch>=2.0->-r environment/requirements.txt (line 11)) (11.2.1.3)\n",
            "Requirement already satisfied: nvidia-curand-cu12==10.3.5.147 in /usr/local/lib/python3.11/dist-packages (from torch>=2.0->-r environment/requirements.txt (line 11)) (10.3.5.147)\n",
            "Requirement already satisfied: nvidia-cusolver-cu12==11.6.1.9 in /usr/local/lib/python3.11/dist-packages (from torch>=2.0->-r environment/requirements.txt (line 11)) (11.6.1.9)\n",
            "Requirement already satisfied: nvidia-cusparse-cu12==12.3.1.170 in /usr/local/lib/python3.11/dist-packages (from torch>=2.0->-r environment/requirements.txt (line 11)) (12.3.1.170)\n",
            "Requirement already satisfied: nvidia-cusparselt-cu12==0.6.2 in /usr/local/lib/python3.11/dist-packages (from torch>=2.0->-r environment/requirements.txt (line 11)) (0.6.2)\n",
            "Requirement already satisfied: nvidia-nccl-cu12==2.21.5 in /usr/local/lib/python3.11/dist-packages (from torch>=2.0->-r environment/requirements.txt (line 11)) (2.21.5)\n",
            "Requirement already satisfied: nvidia-nvtx-cu12==12.4.127 in /usr/local/lib/python3.11/dist-packages (from torch>=2.0->-r environment/requirements.txt (line 11)) (12.4.127)\n",
            "Requirement already satisfied: nvidia-nvjitlink-cu12==12.4.127 in /usr/local/lib/python3.11/dist-packages (from torch>=2.0->-r environment/requirements.txt (line 11)) (12.4.127)\n",
            "Requirement already satisfied: triton==3.2.0 in /usr/local/lib/python3.11/dist-packages (from torch>=2.0->-r environment/requirements.txt (line 11)) (3.2.0)\n",
            "Requirement already satisfied: sympy==1.13.1 in /usr/local/lib/python3.11/dist-packages (from torch>=2.0->-r environment/requirements.txt (line 11)) (1.13.1)\n",
            "Requirement already satisfied: mpmath<1.4,>=1.1.0 in /usr/local/lib/python3.11/dist-packages (from sympy==1.13.1->torch>=2.0->-r environment/requirements.txt (line 11)) (1.3.0)\n",
            "Requirement already satisfied: six>=1.5 in /usr/local/lib/python3.11/dist-packages (from python-dateutil>=2.7->matplotlib>=3.8->-r environment/requirements.txt (line 6)) (1.17.0)\n",
            "Requirement already satisfied: MarkupSafe>=2.0 in /usr/local/lib/python3.11/dist-packages (from jinja2->torch>=2.0->-r environment/requirements.txt (line 11)) (3.0.2)\n"
          ]
        }
      ],
      "source": [
        "!pip install -r environment/requirements.txt"
      ]
    },
    {
      "cell_type": "code",
      "execution_count": 5,
      "id": "uwyQkuZ5SNig",
      "metadata": {
        "colab": {
          "base_uri": "https://localhost:8080/"
        },
        "id": "uwyQkuZ5SNig",
        "outputId": "fc5af132-8712-479c-c4a6-fe130ff433d8"
      },
      "outputs": [
        {
          "output_type": "stream",
          "name": "stdout",
          "text": [
            "✅ Environment setup complete.\n"
          ]
        }
      ],
      "source": [
        "import sys\n",
        "# Add src to path\n",
        "sys.path.append(os.path.join(os.getcwd(), 'src'))\n",
        "\n",
        "# Define Drive paths\n",
        "DRIVE_DATA_PATH = '/content/drive/MyDrive/Thesis_DNN_Planner/data'\n",
        "DRIVE_MODELS_PATH = '/content/drive/MyDrive/Thesis_DNN_Planner/models'\n",
        "DRIVE_RESULTS_PATH = '/content/drive/MyDrive/Thesis_DNN_Planner/results'\n",
        "\n",
        "# Link Drive storage to local cloned directories\n",
        "if not os.path.islink('data'):\n",
        "    !ln -s {DRIVE_DATA_PATH} data\n",
        "if not os.path.islink('models'):\n",
        "    !ln -s {DRIVE_MODELS_PATH} models\n",
        "if not os.path.islink('results'):\n",
        "    !ln -s {DRIVE_RESULTS_PATH} results\n",
        "\n",
        "print(\"✅ Environment setup complete.\")"
      ]
    },
    {
      "cell_type": "code",
      "execution_count": 6,
      "id": "289ecf05",
      "metadata": {
        "id": "289ecf05",
        "outputId": "a97bed87-c457-4c55-db82-9a0c0ea1eacc",
        "colab": {
          "base_uri": "https://localhost:8080/"
        }
      },
      "outputs": [
        {
          "output_type": "stream",
          "name": "stderr",
          "text": [
            "Downloading: \"https://download.pytorch.org/models/resnet34-b627a593.pth\" to /root/.cache/torch/hub/checkpoints/resnet34-b627a593.pth\n",
            "100%|██████████| 83.3M/83.3M [00:00<00:00, 198MB/s]\n"
          ]
        },
        {
          "output_type": "stream",
          "name": "stdout",
          "text": [
            "Logits shape: torch.Size([1, 1, 200, 200])\n",
            "Loss: 0.6357718110084534\n",
            "✅ Phase 2 Sanity Check Passed: Model, data pipeline, and loss function are fully integrated and functional.\n"
          ]
        }
      ],
      "source": [
        "import torch\n",
        "import numpy as np\n",
        "from pathlib import Path\n",
        "from torch.utils.data import DataLoader\n",
        "from dnn_guidance.data_loader import PathfindingDataset\n",
        "from dnn_guidance.model import ResNetFPNFiLM\n",
        "from dnn_guidance.loss import DiceFocalLoss\n",
        "\n",
        "# Create a temporary minimal dataset\n",
        "_temp_root = Path('tmp_sanity_data')\n",
        "_samples = _temp_root/'samples'\n",
        "_gt = _temp_root/'gt'\n",
        "_samples.mkdir(parents=True, exist_ok=True)\n",
        "_gt.mkdir(parents=True, exist_ok=True)\n",
        "\n",
        "grid = np.zeros((200, 200), dtype=np.uint8)\n",
        "grid[0, 0] = 8  # start\n",
        "grid[-1, -1] = 9  # goal\n",
        "np.savez(_samples/'sample0.npz', map=grid, clearance=2.0, step_size=8.0, config=np.array([]))\n",
        "heatmap = np.zeros((200, 200), dtype=np.float32)\n",
        "np.savez(_gt/'sample0.npz', heatmap=heatmap)\n",
        "\n",
        "# Build dataset and dataloader\n",
        "dataset = PathfindingDataset(_samples, _gt)\n",
        "loader = DataLoader(dataset, batch_size=1)\n",
        "\n",
        "device = torch.device('cuda' if torch.cuda.is_available() else 'cpu')\n",
        "model = ResNetFPNFiLM().to(device)\n",
        "criterion = DiceFocalLoss()\n",
        "\n",
        "(grid_batch, robot_batch), target_batch = next(iter(loader))\n",
        "grid_batch = grid_batch.to(device)\n",
        "robot_batch = robot_batch.to(device)\n",
        "target_batch = target_batch.to(device)\n",
        "\n",
        "logits = model(grid_batch, robot_batch)\n",
        "print('Logits shape:', logits.shape)\n",
        "loss = criterion(logits, target_batch)\n",
        "print('Loss:', loss.item())\n",
        "\n",
        "assert logits.shape == (1, 1, 200, 200)\n",
        "assert loss.dim() == 0\n",
        "\n",
        "loss.backward()\n",
        "print('✅ Phase 2 Sanity Check Passed: Model, data pipeline, and loss function are fully integrated and functional.')"
      ]
    },
    {
      "cell_type": "code",
      "execution_count": 7,
      "id": "3d41c564",
      "metadata": {
        "id": "3d41c564",
        "outputId": "63d94c99-cc7a-43c0-ba81-6a2a299eefbd",
        "colab": {
          "base_uri": "https://localhost:8080/"
        }
      },
      "outputs": [
        {
          "output_type": "stream",
          "name": "stdout",
          "text": [
            "Configuration loaded from configs/dnn/resnet_fpn_film_v2.yaml.\n"
          ]
        }
      ],
      "source": [
        "import yaml\n",
        "from pathlib import Path\n",
        "\n",
        "CONFIG_PATH = 'configs/dnn/resnet_fpn_film_v2.yaml'\n",
        "with open(CONFIG_PATH, 'r') as f:\n",
        "    cfg = yaml.safe_load(f)\n",
        "print(f'Configuration loaded from {CONFIG_PATH}.')"
      ]
    },
    {
      "cell_type": "code",
      "execution_count": 8,
      "id": "011ecb42",
      "metadata": {
        "id": "011ecb42",
        "outputId": "52bb5f13-5da1-4296-c1da-3be077ddb60e",
        "colab": {
          "base_uri": "https://localhost:8080/"
        }
      },
      "outputs": [
        {
          "output_type": "stream",
          "name": "stdout",
          "text": [
            "Random seed set to 42.\n"
          ]
        }
      ],
      "source": [
        "import random\n",
        "import numpy as np\n",
        "import torch\n",
        "\n",
        "seed = cfg.get('seed', 0)\n",
        "random.seed(seed)\n",
        "np.random.seed(seed)\n",
        "torch.manual_seed(seed)\n",
        "if torch.cuda.is_available():\n",
        "    torch.cuda.manual_seed_all(seed)\n",
        "print(f'Random seed set to {seed}.')"
      ]
    },
    {
      "cell_type": "markdown",
      "metadata": {
        "id": "SSX2OtSHyjKI"
      },
      "source": [
        "## Dataset Preparation\n",
        "We pair sample maps with their ground-truth heatmaps and create PyTorch dataloaders for training and validation.\n"
      ],
      "id": "SSX2OtSHyjKI"
    },
    {
      "cell_type": "code",
      "execution_count": 9,
      "id": "ce1588cf",
      "metadata": {
        "id": "ce1588cf",
        "outputId": "3b0929dc-2950-4124-eec3-cd5580387755",
        "colab": {
          "base_uri": "https://localhost:8080/"
        }
      },
      "outputs": [
        {
          "output_type": "stream",
          "name": "stdout",
          "text": [
            "DataLoaders created.\n"
          ]
        }
      ],
      "source": [
        "from sklearn.model_selection import train_test_split\n",
        "from torch.utils.data import DataLoader\n",
        "from dnn_guidance.data_loader import PathfindingDataset, _pair_files\n",
        "\n",
        "samples_dir = DRIVE_DATA_PATH / Path(cfg['samples_dir'])\n",
        "gt_dir = DRIVE_DATA_PATH / Path(cfg['ground_truth_dir'])\n",
        "all_pairs = _pair_files(samples_dir, gt_dir)\n",
        "train_pairs, val_pairs = train_test_split(all_pairs, test_size=cfg['val_split'], random_state=seed)\n",
        "train_dataset = PathfindingDataset(samples_dir, gt_dir, augment=True)\n",
        "val_dataset = PathfindingDataset(samples_dir, gt_dir, augment=False)\n",
        "train_dataset.pairs = train_pairs\n",
        "val_dataset.pairs = val_pairs\n",
        "train_loader = DataLoader(train_dataset, batch_size=cfg['batch_size'], shuffle=True, num_workers=cfg['num_workers'])\n",
        "val_loader = DataLoader(val_dataset, batch_size=cfg['batch_size'], shuffle=False, num_workers=cfg['num_workers'])\n",
        "print('DataLoaders created.')"
      ]
    },
    {
      "cell_type": "markdown",
      "metadata": {
        "id": "jQcdrW7lyjKI"
      },
      "source": [
        "## Model Setup\n",
        "Select which FiLM-based architecture to train by setting `model_name` in the configuration.\n"
      ],
      "id": "jQcdrW7lyjKI"
    },
    {
      "cell_type": "code",
      "execution_count": 10,
      "id": "9bdc5072",
      "metadata": {
        "id": "9bdc5072",
        "outputId": "bc240e62-7331-424a-952d-1f5b2f669a04",
        "colab": {
          "base_uri": "https://localhost:8080/"
        }
      },
      "outputs": [
        {
          "output_type": "stream",
          "name": "stdout",
          "text": [
            "Model resnet_fpn_film loaded onto cuda.\n"
          ]
        }
      ],
      "source": [
        "from dnn_guidance.model import create_model\n",
        "\n",
        "model_name = cfg.get('model_name', 'unet_film')\n",
        "if model_name == 'hr_film_net':\n",
        "    cfg_file = 'configs/dnn/hr_film_net.yaml'\n",
        "elif model_name == 'diffusion_unet':\n",
        "    cfg_file = 'configs/dnn/diffusion_unet.yaml'\n",
        "elif model_name == 'resnet_fpn_film':\n",
        "    cfg_file = 'configs/dnn/resnet_fpn_film.yaml'\n",
        "else:\n",
        "    cfg_file = 'configs/dnn/unet_film.yaml'\n",
        "model = create_model(model_name, cfg_file)\n",
        "device = torch.device(cfg['device'])\n",
        "model = model.to(device)\n",
        "print(f'Model {model_name} loaded onto {device}.')"
      ]
    },
    {
      "cell_type": "code",
      "execution_count": 11,
      "id": "dae9fbbf",
      "metadata": {
        "id": "dae9fbbf",
        "outputId": "44283ea7-676e-466f-9a10-77e0224df334",
        "colab": {
          "base_uri": "https://localhost:8080/"
        }
      },
      "outputs": [
        {
          "output_type": "stream",
          "name": "stdout",
          "text": [
            "Optimizer and Scheduler initialized.\n"
          ]
        }
      ],
      "source": [
        "import torch.optim as optim\n",
        "\n",
        "opt_name = cfg['optimizer']['name']\n",
        "optimizer_cls = getattr(optim, opt_name)\n",
        "optimizer = optimizer_cls(model.parameters(), lr=cfg['optimizer']['lr'], weight_decay=cfg['optimizer']['weight_decay'])\n",
        "scheduler = None\n",
        "if cfg['scheduler']['name'] == 'CosineAnnealing':\n",
        "    t_max = cfg['epochs'] - cfg['scheduler']['warmup_epochs']\n",
        "    scheduler = optim.lr_scheduler.CosineAnnealingLR(optimizer, T_max=t_max)\n",
        "print('Optimizer and Scheduler initialized.')"
      ]
    },
    {
      "cell_type": "code",
      "execution_count": 12,
      "id": "5262d268",
      "metadata": {
        "id": "5262d268",
        "outputId": "c38b8b08-c766-4c53-c439-a1a6ed695dc3",
        "colab": {
          "base_uri": "https://localhost:8080/"
        }
      },
      "outputs": [
        {
          "output_type": "stream",
          "name": "stdout",
          "text": [
            "Loss function initialized.\n"
          ]
        }
      ],
      "source": [
        "from dnn_guidance.loss import DiceFocalLoss\n",
        "\n",
        "loss_cfg = cfg['loss']\n",
        "loss_fn = DiceFocalLoss(dice_weight=loss_cfg['dice_weight'], focal_weight=loss_cfg['focal_weight'], focal_gamma=loss_cfg['focal_gamma'])\n",
        "print('Loss function initialized.')"
      ]
    },
    {
      "cell_type": "code",
      "execution_count": 13,
      "id": "275102c5",
      "metadata": {
        "id": "275102c5",
        "outputId": "b78103ca-9dea-490b-a500-9ec8aac8020e",
        "colab": {
          "base_uri": "https://localhost:8080/"
        }
      },
      "outputs": [
        {
          "output_type": "stream",
          "name": "stderr",
          "text": [
            "/tmp/ipython-input-13-2398197603.py:19: FutureWarning: `torch.cuda.amp.GradScaler(args...)` is deprecated. Please use `torch.amp.GradScaler('cuda', args...)` instead.\n",
            "  scaler = GradScaler(enabled=cfg.get('use_amp', True))\n"
          ]
        }
      ],
      "source": [
        "from datetime import datetime\n",
        "from pathlib import Path\n",
        "from torch.utils.tensorboard import SummaryWriter\n",
        "from torch.cuda.amp import GradScaler\n",
        "from dnn_guidance.trainer import train_one_epoch, validate_one_epoch\n",
        "\n",
        "# Directories for logging and checkpoints\n",
        "timestamp = datetime.now().strftime(\"%Y%m%d_%H%M%S\")\n",
        "log_root = DRIVE_RESULTS_PATH / Path(cfg['log_dir'])\n",
        "log_dir = log_root / f\"{cfg['run_name']}_{timestamp}\"\n",
        "log_dir.mkdir(parents=True, exist_ok=True)\n",
        "writer = SummaryWriter(log_dir)\n",
        "\n",
        "ckpt_dir = DRIVE_RESULTS_PATH / Path(cfg['checkpoints_dir'])\n",
        "ckpt_dir.mkdir(parents=True, exist_ok=True)\n",
        "best_model_path = ckpt_dir / f\"{cfg['run_name']}_best_model.pth\"\n",
        "latest_ckpt = ckpt_dir / f\"{cfg['run_name']}_latest.pth\"\n",
        "\n",
        "scaler = GradScaler(enabled=cfg.get('use_amp', True))\n",
        "best_dice = -1.0\n",
        "epochs_no_improve = 0\n",
        "start_epoch = 0\n",
        "\n",
        "# Resume from checkpoint if available\n",
        "if latest_ckpt.exists():\n",
        "    ckpt = torch.load(latest_ckpt, map_location=device)\n",
        "    model.load_state_dict(ckpt['model'])\n",
        "    optimizer.load_state_dict(ckpt['optimizer'])\n",
        "    if scheduler and ckpt.get('scheduler'):\n",
        "        scheduler.load_state_dict(ckpt['scheduler'])\n",
        "    scaler.load_state_dict(ckpt.get('scaler', {}))\n",
        "    start_epoch = ckpt.get('epoch', 0) + 1\n",
        "    best_dice = ckpt.get('best_dice', -1.0)\n",
        "    epochs_no_improve = ckpt.get('epochs_no_improve', 0)\n",
        "    print(f\"Resumed from epoch {start_epoch}\")"
      ]
    },
    {
      "cell_type": "markdown",
      "metadata": {
        "id": "BKWiMzzFyjKJ"
      },
      "source": [
        "## Training Loop\n",
        "The training loop records metrics to TensorBoard and saves the best performing model based on validation Dice score.\n"
      ],
      "id": "BKWiMzzFyjKJ"
    },
    {
      "cell_type": "code",
      "execution_count": null,
      "id": "9762b52f",
      "metadata": {
        "id": "9762b52f"
      },
      "outputs": [],
      "source": [
        "for epoch in range(start_epoch, cfg['epochs']):\n",
        "    print(f\"--- Epoch {epoch+1}/{cfg['epochs']} ---\")\n",
        "    train_loss = train_one_epoch(model, train_loader, optimizer, loss_fn, device, scaler)\n",
        "    val_loss, val_dice = validate_one_epoch(model, val_loader, loss_fn, device)\n",
        "    if scheduler:\n",
        "        scheduler.step()\n",
        "    lr = optimizer.param_groups[0]['lr']\n",
        "\n",
        "    writer.add_scalar('loss/train', train_loss, epoch)\n",
        "    writer.add_scalar('loss/val', val_loss, epoch)\n",
        "    writer.add_scalar('dice/val', val_dice, epoch)\n",
        "    writer.add_scalar('lr', lr, epoch)\n",
        "    print(f\"Train Loss: {train_loss:.4f} | Val Loss: {val_loss:.4f} | Val Dice: {val_dice:.4f} | LR: {lr:.6f}\")\n",
        "\n",
        "    improved = val_dice > best_dice\n",
        "    if improved:\n",
        "        best_dice = val_dice\n",
        "        torch.save(model.state_dict(), best_model_path)\n",
        "        print(\"New best model found, saving checkpoint...\")\n",
        "        epochs_no_improve = 0\n",
        "    else:\n",
        "        epochs_no_improve += 1\n",
        "        print(f\"No improvement for {epochs_no_improve} epochs...\")\n",
        "\n",
        "    torch.save({\n",
        "        'epoch': epoch,\n",
        "        'model': model.state_dict(),\n",
        "        'optimizer': optimizer.state_dict(),\n",
        "        'scheduler': scheduler.state_dict() if scheduler else None,\n",
        "        'scaler': scaler.state_dict(),\n",
        "        'best_dice': best_dice,\n",
        "        'epochs_no_improve': epochs_no_improve\n",
        "    }, latest_ckpt)\n",
        "\n",
        "    if epochs_no_improve >= cfg['early_stop_patience']:\n",
        "        print('Early stopping triggered.')\n",
        "        break\n",
        "\n",
        "writer.close()"
      ]
    },
    {
      "cell_type": "markdown",
      "metadata": {
        "id": "owBUSl49yjKJ"
      },
      "source": [
        "## Conclusion\n",
        "After training completes you can inspect the logged metrics and exported checkpoints in the results directory.\n"
      ],
      "id": "owBUSl49yjKJ"
    }
  ],
  "metadata": {
    "colab": {
      "provenance": [],
      "gpuType": "L4",
      "machine_shape": "hm",
      "include_colab_link": true
    },
    "kernelspec": {
      "display_name": "Python 3",
      "name": "python3"
    },
    "language_info": {
      "name": "python"
    },
    "accelerator": "GPU"
  },
  "nbformat": 4,
  "nbformat_minor": 5
}