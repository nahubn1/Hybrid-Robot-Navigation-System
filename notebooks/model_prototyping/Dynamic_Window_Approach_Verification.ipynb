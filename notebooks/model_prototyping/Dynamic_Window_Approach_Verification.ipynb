{
 "nbformat": 4,
 "nbformat_minor": 5,
 "metadata": {},
 "cells": [
  {
   "id": "intro",
   "cell_type": "markdown",
   "source": "# Dynamic Window Approach Verification\nThis notebook demonstrates a simple simulation using the `DynamicWindowPlanner`.",
   "metadata": {}
  },
  {
   "id": "setup",
   "cell_type": "code",
   "execution_count": null,
   "metadata": {},
   "source": "import numpy as np\nimport matplotlib.pyplot as plt\nfrom dwa_planner.data_structures import RobotState, RobotConfiguration\nfrom dwa_planner.planner import DynamicWindowPlanner\nfrom dwa_planner.kinematics import predict_trajectory"
  },
  {
   "id": "simulation",
   "cell_type": "code",
   "execution_count": null,
   "metadata": {},
   "source": "grid = np.zeros((20, 20), dtype=int)\n# simple obstacle wall\ngrid[10, 5:15] = 1\nstart = RobotState(2, 2, 0.0, 0.0, 0.0)\ngoal = (18, 18)\nconfig = RobotConfiguration(max_speed=1.0, min_speed=0.0, max_omega=1.0, max_accel=0.5, max_omega_dot=1.0, footprint_radius=0.5)\nweights = {'goal_dist_cost_gain': 1.0, 'obstacle_cost_gain': 1.0, 'velocity_cost_gain': 0.1}\nplanner = DynamicWindowPlanner(config, weights)\nstate = start\npath = []\nfor _ in range(50):\n    v, w = planner.plan(state, goal, grid, dt=0.1, predict_steps=3)\n    traj = predict_trajectory(state, (v, w), dt=0.1, steps=3)\n    state = traj.states[-1]\n    path.append((state.x, state.y))\n    if np.hypot(state.x - goal[0], state.y - goal[1]) < 0.5:\n        break\npath = np.array(path)\nplt.imshow(grid, origin='lower', cmap='gray')\nif len(path) > 0:\n    plt.plot(path[:,0], path[:,1], 'b.-')\nplt.plot(goal[0], goal[1], 'rx')\nplt.show()"
  }
 ]
}
