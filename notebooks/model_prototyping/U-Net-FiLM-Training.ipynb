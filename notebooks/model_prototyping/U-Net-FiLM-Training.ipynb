{
  "cells": [
    {
      "cell_type": "markdown",
      "metadata": {
        "id": "view-in-github",
        "colab_type": "text"
      },
      "source": [
        "<a href=\"https://colab.research.google.com/github/nahubn1/Hybrid-Robot-Navigation-System/blob/main/notebooks/model_prototyping/U-Net-FiLM-Training.ipynb\" target=\"_parent\"><img src=\"https://colab.research.google.com/assets/colab-badge.svg\" alt=\"Open In Colab\"/></a>"
      ]
    },
    {
      "cell_type": "code",
      "source": [
        "from google.colab import drive\n",
        "drive.mount('/content/drive')"
      ],
      "metadata": {
        "id": "WPy4XKZqRhXI",
        "outputId": "d51ddc1b-eaf9-4dad-bf37-c2608f0e75b6",
        "colab": {
          "base_uri": "https://localhost:8080/"
        }
      },
      "id": "WPy4XKZqRhXI",
      "execution_count": 7,
      "outputs": [
        {
          "output_type": "stream",
          "name": "stdout",
          "text": [
            "Drive already mounted at /content/drive; to attempt to forcibly remount, call drive.mount(\"/content/drive\", force_remount=True).\n"
          ]
        }
      ]
    },
    {
      "cell_type": "code",
      "source": [
        "import os\n",
        "COLAB_PROJECT_ROOT = '/content/Thesis_Project'\n",
        "if not os.path.exists(COLAB_PROJECT_ROOT):\n",
        "  !git clone [your-repo-url] {COLAB_PROJECT_ROOT}\n",
        "os.chdir(COLAB_PROJECT_ROOT) # Change directory into the project\n",
        "!git pull # Ensure it's the latest version"
      ],
      "metadata": {
        "id": "gwVlGFyGSAVS",
        "outputId": "5aa1ba28-ac14-4bc8-c59e-15fabc4d65fd",
        "colab": {
          "base_uri": "https://localhost:8080/"
        }
      },
      "id": "gwVlGFyGSAVS",
      "execution_count": 8,
      "outputs": [
        {
          "output_type": "stream",
          "name": "stdout",
          "text": [
            "remote: Enumerating objects: 5, done.\u001b[K\n",
            "remote: Counting objects:  20% (1/5)\u001b[K\rremote: Counting objects:  40% (2/5)\u001b[K\rremote: Counting objects:  60% (3/5)\u001b[K\rremote: Counting objects:  80% (4/5)\u001b[K\rremote: Counting objects: 100% (5/5)\u001b[K\rremote: Counting objects: 100% (5/5), done.\u001b[K\n",
            "remote: Compressing objects:  20% (1/5)\u001b[K\rremote: Compressing objects:  40% (2/5)\u001b[K\rremote: Compressing objects:  60% (3/5)\u001b[K\rremote: Compressing objects:  80% (4/5)\u001b[K\rremote: Compressing objects: 100% (5/5)\u001b[K\rremote: Compressing objects: 100% (5/5), done.\u001b[K\n",
            "remote: Total 5 (delta 0), reused 0 (delta 0), pack-reused 0 (from 0)\u001b[K\n",
            "Unpacking objects:  20% (1/5)\rUnpacking objects:  40% (2/5)\rUnpacking objects:  60% (3/5)\rUnpacking objects:  80% (4/5)\rUnpacking objects: 100% (5/5)\rUnpacking objects: 100% (5/5), 1.34 KiB | 688.00 KiB/s, done.\n",
            "From https://github.com/nahubn1/Hybrid-Robot-Navigation-System\n",
            "   2423c22..a0758bf  main       -> origin/main\n",
            "Updating 2423c22..a0758bf\n",
            "Fast-forward\n",
            " .../model_prototyping/U-Net-FiLM-Training.ipynb    | 33 \u001b[32m++++++++++++++++++\u001b[m\u001b[31m----\u001b[m\n",
            " 1 file changed, 28 insertions(+), 5 deletions(-)\n"
          ]
        }
      ]
    },
    {
      "cell_type": "code",
      "source": [
        "!pip install -r environment/requirements.txt"
      ],
      "metadata": {
        "id": "QMwq7BT7SIqp",
        "outputId": "b4f34740-c758-42c5-ca22-d0a42e97dd6f",
        "colab": {
          "base_uri": "https://localhost:8080/"
        }
      },
      "id": "QMwq7BT7SIqp",
      "execution_count": 9,
      "outputs": [
        {
          "output_type": "stream",
          "name": "stdout",
          "text": [
            "Requirement already satisfied: pybullet==3.2.7 in /usr/local/lib/python3.11/dist-packages (from -r environment/requirements.txt (line 1)) (3.2.7)\n",
            "Requirement already satisfied: numpy>=1.24 in /usr/local/lib/python3.11/dist-packages (from -r environment/requirements.txt (line 2)) (2.0.2)\n",
            "Requirement already satisfied: pyyaml>=6.0 in /usr/local/lib/python3.11/dist-packages (from -r environment/requirements.txt (line 3)) (6.0.2)\n",
            "Requirement already satisfied: networkx>=3.1 in /usr/local/lib/python3.11/dist-packages (from -r environment/requirements.txt (line 4)) (3.5)\n",
            "Requirement already satisfied: pytest>=8.0 in /usr/local/lib/python3.11/dist-packages (from -r environment/requirements.txt (line 5)) (8.3.5)\n",
            "Requirement already satisfied: matplotlib>=3.8 in /usr/local/lib/python3.11/dist-packages (from -r environment/requirements.txt (line 6)) (3.10.0)\n",
            "Requirement already satisfied: pillow>=10.0 in /usr/local/lib/python3.11/dist-packages (from -r environment/requirements.txt (line 7)) (11.2.1)\n",
            "Requirement already satisfied: tqdm>=4.66 in /usr/local/lib/python3.11/dist-packages (from -r environment/requirements.txt (line 8)) (4.67.1)\n",
            "Requirement already satisfied: scipy>=1.11 in /usr/local/lib/python3.11/dist-packages (from -r environment/requirements.txt (line 9)) (1.15.3)\n",
            "Requirement already satisfied: filelock>=3.13 in /usr/local/lib/python3.11/dist-packages (from -r environment/requirements.txt (line 10)) (3.18.0)\n",
            "Requirement already satisfied: iniconfig in /usr/local/lib/python3.11/dist-packages (from pytest>=8.0->-r environment/requirements.txt (line 5)) (2.1.0)\n",
            "Requirement already satisfied: packaging in /usr/local/lib/python3.11/dist-packages (from pytest>=8.0->-r environment/requirements.txt (line 5)) (24.2)\n",
            "Requirement already satisfied: pluggy<2,>=1.5 in /usr/local/lib/python3.11/dist-packages (from pytest>=8.0->-r environment/requirements.txt (line 5)) (1.6.0)\n",
            "Requirement already satisfied: contourpy>=1.0.1 in /usr/local/lib/python3.11/dist-packages (from matplotlib>=3.8->-r environment/requirements.txt (line 6)) (1.3.2)\n",
            "Requirement already satisfied: cycler>=0.10 in /usr/local/lib/python3.11/dist-packages (from matplotlib>=3.8->-r environment/requirements.txt (line 6)) (0.12.1)\n",
            "Requirement already satisfied: fonttools>=4.22.0 in /usr/local/lib/python3.11/dist-packages (from matplotlib>=3.8->-r environment/requirements.txt (line 6)) (4.58.5)\n",
            "Requirement already satisfied: kiwisolver>=1.3.1 in /usr/local/lib/python3.11/dist-packages (from matplotlib>=3.8->-r environment/requirements.txt (line 6)) (1.4.8)\n",
            "Requirement already satisfied: pyparsing>=2.3.1 in /usr/local/lib/python3.11/dist-packages (from matplotlib>=3.8->-r environment/requirements.txt (line 6)) (3.2.3)\n",
            "Requirement already satisfied: python-dateutil>=2.7 in /usr/local/lib/python3.11/dist-packages (from matplotlib>=3.8->-r environment/requirements.txt (line 6)) (2.9.0.post0)\n",
            "Requirement already satisfied: six>=1.5 in /usr/local/lib/python3.11/dist-packages (from python-dateutil>=2.7->matplotlib>=3.8->-r environment/requirements.txt (line 6)) (1.17.0)\n"
          ]
        }
      ]
    },
    {
      "cell_type": "code",
      "source": [
        "import sys\n",
        "# Add src to path\n",
        "sys.path.append(os.path.join(os.getcwd(), 'src'))\n",
        "\n",
        "# Define Drive paths\n",
        "DRIVE_DATA_PATH = '/content/drive/MyDrive/Thesis_DNN_Planner/data'\n",
        "DRIVE_MODELS_PATH = '/content/drive/MyDrive/Thesis_DNN_Planner/models'\n",
        "DRIVE_RESULTS_PATH = '/content/drive/MyDrive/Thesis_DNN_Planner/results'\n",
        "\n",
        "# Link Drive storage to local cloned directories\n",
        "if not os.path.islink('data'):\n",
        "    !ln -s {DRIVE_DATA_PATH} data\n",
        "if not os.path.islink('models'):\n",
        "    !ln -s {DRIVE_MODELS_PATH} models\n",
        "if not os.path.islink('results'):\n",
        "    !ln -s {DRIVE_RESULTS_PATH} results\n",
        "\n",
        "print(\"\u2705 Environment setup complete.\")"
      ],
      "metadata": {
        "id": "uwyQkuZ5SNig",
        "outputId": "8846bad2-e95c-4342-cfec-b4fd89fec1bb",
        "colab": {
          "base_uri": "https://localhost:8080/"
        }
      },
      "id": "uwyQkuZ5SNig",
      "execution_count": 10,
      "outputs": [
        {
          "output_type": "stream",
          "name": "stdout",
          "text": [
            "ln: failed to create symbolic link 'data/data': File exists\n",
            "ln: failed to create symbolic link 'models/models': File exists\n",
            "ln: failed to create symbolic link 'results/results': File exists\n",
            "\u2705 Environment setup complete.\n"
          ]
        }
      ]
    },
    {
      "cell_type": "markdown",
      "metadata": {},
      "source": [
        "### Phase 2, Task 2.5: Full Pipeline Sanity Check"
      ]
    },
    {
      "cell_type": "code",
      "execution_count": null,
      "metadata": {},
      "outputs": [],
      "source": [
        "import torch\n",
        "import numpy as np\n",
        "from pathlib import Path\n",
        "from torch.utils.data import DataLoader\n",
        "from dnn_guidance.data_loader import PathfindingDataset\n",
        "from dnn_guidance.model import UNetFiLM\n",
        "from dnn_guidance.loss import DiceFocalLoss\n",
        "\n",
        "# Create a temporary minimal dataset\n",
        "_temp_root = Path('tmp_sanity_data')\n",
        "_samples = _temp_root/'samples'\n",
        "_gt = _temp_root/'gt'\n",
        "_samples.mkdir(parents=True, exist_ok=True)\n",
        "_gt.mkdir(parents=True, exist_ok=True)\n",
        "\n",
        "grid = np.zeros((200, 200), dtype=np.uint8)\n",
        "grid[0, 0] = 8  # start\n",
        "grid[-1, -1] = 9  # goal\n",
        "np.savez(_samples/'sample0.npz', map=grid, clearance=2.0, step_size=8.0, config=np.array([]))\n",
        "heatmap = np.zeros((200, 200), dtype=np.float32)\n",
        "np.savez(_gt/'sample0.npz', heatmap=heatmap)\n",
        "\n",
        "# Build dataset and dataloader\n",
        " dataset = PathfindingDataset(_samples, _gt)\n",
        "loader = DataLoader(dataset, batch_size=1)\n",
        "\n",
        "device = torch.device('cuda' if torch.cuda.is_available() else 'cpu')\n",
        "model = UNetFiLM().to(device)\n",
        "criterion = DiceFocalLoss()\n",
        "\n",
        "(grid_batch, robot_batch), target_batch = next(iter(loader))\n",
        "grid_batch = grid_batch.to(device)\n",
        "robot_batch = robot_batch.to(device)\n",
        "target_batch = target_batch.to(device)\n",
        "\n",
        "logits = model(grid_batch, robot_batch)\n",
        "print('Logits shape:', logits.shape)\n",
        "loss = criterion(logits, target_batch)\n",
        "print('Loss:', loss.item())\n",
        "\n",
        "assert logits.shape == (1, 1, 200, 200)\n",
        "assert loss.dim() == 0\n",
        "\n",
        "loss.backward()\n",
        "print('\u2705 Phase 2 Sanity Check Passed: Model, data pipeline, and loss function are fully integrated and functional.')"
      ]
    }
  ],
  "metadata": {
    "colab": {
      "provenance": [],
      "include_colab_link": true
    },
    "language_info": {
      "name": "python"
    },
    "kernelspec": {
      "name": "python3",
      "display_name": "Python 3"
    }
  },
  "nbformat": 4,
  "nbformat_minor": 5
}