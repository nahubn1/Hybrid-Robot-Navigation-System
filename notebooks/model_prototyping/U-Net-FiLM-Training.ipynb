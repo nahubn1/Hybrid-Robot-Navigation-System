{
 "cells": [
  {
   "cell_type": "markdown",
   "id": "b1bf5db9",
   "metadata": {},
   "source": [
    "<a href=\\\n",
    " target=\\\n",
    "><img src=\\\n",
    " alt=\\\n",
    "/></a>"
   ]
  },
  {
   "cell_type": "markdown",
   "id": "4c8806e7",
   "metadata": {},
   "source": [
    "## Overview\n",
    "\n",
    "This notebook demonstrates how to train a U-Net model with FiLM layers for segmentation. It begins with environment setup, verifies the data pipeline, initializes experiment settings, and finally runs the training loop with monitoring and checkpointing."
   ]
  },
  {
   "cell_type": "markdown",
   "id": "b870995f",
   "metadata": {},
   "source": [
    "## Environment Setup\n",
    "\n",
    "This section mounts Google Drive, clones the project repository, installs required packages, and links the dataset so training can run smoothly."
   ]
  },
  {
   "cell_type": "code",
   "execution_count": null,
   "id": "2676451e",
   "metadata": {},
   "outputs": [],
   "source": [
    "from google.colab import drive\n",
    "\n",
    "drive.mount('/content/drive')"
   ]
  },
  {
   "cell_type": "code",
   "execution_count": null,
   "id": "a12d5c5a",
   "metadata": {},
   "outputs": [],
   "source": [
    "import os\n",
    "\n",
    "COLAB_PROJECT_ROOT = '/content/Thesis_Project'\n",
    "\n",
    "if not os.path.exists(COLAB_PROJECT_ROOT):\n",
    "\n",
    "  !git clone https://github.com/nahubn1/Hybrid-Robot-Navigation-System {COLAB_PROJECT_ROOT}\n",
    "\n",
    "os.chdir(COLAB_PROJECT_ROOT) # Change directory into the project\n",
    "\n",
    "!git pull # Ensure it's the latest version"
   ]
  },
  {
   "cell_type": "code",
   "execution_count": null,
   "id": "a7eb16c4",
   "metadata": {},
   "outputs": [],
   "source": [
    "!pip install -r environment/requirements.txt"
   ]
  },
  {
   "cell_type": "code",
   "execution_count": null,
   "id": "74fff5db",
   "metadata": {},
   "outputs": [],
   "source": [
    "import sys\n",
    "\n",
    "# Add src to path\n",
    "\n",
    "sys.path.append(os.path.join(os.getcwd(), 'src'))\n",
    "\n",
    "\n",
    "\n",
    "# Define Drive paths\n",
    "\n",
    "DRIVE_DATA_PATH = '/content/drive/MyDrive/Thesis_DNN_Planner/data'\n",
    "\n",
    "DRIVE_MODELS_PATH = '/content/drive/MyDrive/Thesis_DNN_Planner/models'\n",
    "\n",
    "DRIVE_RESULTS_PATH = '/content/drive/MyDrive/Thesis_DNN_Planner/results'\n",
    "\n",
    "LOCAL_DATA_PATH = '/content/dataset'\n",
    "\n",
    "\n",
    "\n",
    "# Copy dataset to the local SSD for faster loading\n",
    "\n",
    "if not os.path.exists(LOCAL_DATA_PATH):\n",
    "\n",
    "    !rsync -ah --info=progress2 {DRIVE_DATA_PATH}/ {LOCAL_DATA_PATH}/\n",
    "\n",
    "    !ls {LOCAL_DATA_PATH} | head\n",
    "\n",
    "DATA_PATH = LOCAL_DATA_PATH\n",
    "\n",
    "\n",
    "\n",
    "# Link Drive storage to local cloned directories\n",
    "\n",
    "if not os.path.islink('data'):\n",
    "\n",
    "    !ln -s {DATA_PATH} data\n",
    "\n",
    "if not os.path.islink('models'):\n",
    "\n",
    "    !ln -s {DRIVE_MODELS_PATH} models\n",
    "\n",
    "if not os.path.islink('results'):\n",
    "\n",
    "    !ln -s {DRIVE_RESULTS_PATH} results\n",
    "\n",
    "\n",
    "\n",
    "print(\\\n",
    ")"
   ]
  },
  {
   "cell_type": "markdown",
   "id": "4938d008",
   "metadata": {},
   "source": [
    "## Phase 3: Experiment Setup and Initialization\n",
    "\n",
    "Here we load configuration files, create dataset splits, and initialize the model, optimizer, and learning rate scheduler."
   ]
  },
  {
   "cell_type": "code",
   "execution_count": null,
   "id": "ce5fc0a0",
   "metadata": {},
   "outputs": [],
   "source": [
    "import yaml\n",
    "\n",
    "from pathlib import Path\n",
    "\n",
    "\n",
    "\n",
    "CONFIG_PATH = 'configs/dnn/unet_film_v1_baseline.yaml'\n",
    "\n",
    "with open(CONFIG_PATH, 'r') as f:\n",
    "\n",
    "    cfg = yaml.safe_load(f)\n",
    "\n",
    "print(f'Configuration loaded from {CONFIG_PATH}.')"
   ]
  },
  {
   "cell_type": "code",
   "execution_count": null,
   "id": "d5cac310",
   "metadata": {},
   "outputs": [],
   "source": [
    "import random\n",
    "\n",
    "import numpy as np\n",
    "\n",
    "import torch\n",
    "\n",
    "\n",
    "\n",
    "seed = cfg.get('seed', 0)\n",
    "\n",
    "random.seed(seed)\n",
    "\n",
    "np.random.seed(seed)\n",
    "\n",
    "torch.manual_seed(seed)\n",
    "\n",
    "if torch.cuda.is_available():\n",
    "\n",
    "    torch.cuda.manual_seed_all(seed)\n",
    "\n",
    "print(f'Random seed set to {seed}.')"
   ]
  },
  {
   "cell_type": "code",
   "execution_count": null,
   "id": "acd3024b",
   "metadata": {},
   "outputs": [],
   "source": [
    "from sklearn.model_selection import train_test_split\n",
    "\n",
    "from torch.utils.data import DataLoader\n",
    "\n",
    "from dnn_guidance.data_loader import PathfindingDataset, _pair_files\n",
    "\n",
    "from pathlib import Path\n",
    "\n",
    "\n",
    "\n",
    "DATA_ROOT = Path(DATA_PATH)\n"
   ]
  },
  {
   "cell_type": "code",
   "execution_count": null,
   "id": "27d97ac6",
   "metadata": {},
   "outputs": [],
   "source": [
    "from dnn_guidance.model import UNetFiLM\n",
    "\n",
    "from dnn_guidance.config import UNetConfig\n",
    "\n",
    "\n",
    "\n",
    "model_cfg = UNetConfig.from_yaml('configs/dnn/unet_film.yaml')\n",
    "\n",
    "model = UNetFiLM(model_cfg)\n"
   ]
  },
  {
   "cell_type": "code",
   "execution_count": null,
   "id": "a57d9d01",
   "metadata": {},
   "outputs": [],
   "source": [
    "from sklearn.model_selection import train_test_split\n",
    "\n",
    "from torch.utils.data import DataLoader\n",
    "\n",
    "from dnn_guidance.data_loader import PathfindingDataset, _pair_files\n",
    "\n",
    "from pathlib import Path\n",
    "\n",
    "\n",
    "\n",
    "DATA_ROOT = Path(DATA_PATH)\n"
   ]
  },
  {
   "cell_type": "markdown",
   "id": "f0ebcc76",
   "metadata": {},
   "source": [
    "## Phase 4: Training Loop with Monitoring and Checkpointing\n",
    "\n",
    "The training loop iterates over epochs while logging metrics to TensorBoard and saving checkpoints for recovery and evaluation."
   ]
  },
  {
   "cell_type": "code",
   "execution_count": null,
   "id": "f2c01007",
   "metadata": {},
   "outputs": [],
   "source": [
    "from datetime import datetime\n",
    "\n",
    "from pathlib import Path\n",
    "\n",
    "from torch.utils.tensorboard import SummaryWriter\n",
    "\n",
    "from torch.cuda.amp import GradScaler\n",
    "\n",
    "from dnn_guidance.trainer import train_one_epoch, validate_one_epoch\n",
    "\n",
    "\n",
    "\n",
    "# Directories for logging and checkpoints\n",
    "\n",
    "timestamp = datetime.now().strftime(\\\n",
    ")\n"
   ]
  },
  {
   "cell_type": "code",
   "execution_count": null,
   "id": "8990dd7e",
   "metadata": {},
   "outputs": [],
   "source": []
  }
 ],
 "metadata": {},
 "nbformat": 4,
 "nbformat_minor": 5
}
