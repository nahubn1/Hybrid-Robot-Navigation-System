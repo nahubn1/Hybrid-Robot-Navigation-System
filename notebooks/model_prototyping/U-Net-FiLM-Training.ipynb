{
  "cells": [
    {
      "cell_type": "markdown",
      "metadata": {
        "id": "view-in-github",
        "colab_type": "text"
      },
      "source": [
        "<a href=\"https://colab.research.google.com/github/nahubn1/Hybrid-Robot-Navigation-System/blob/main/notebooks/model_prototyping/U-Net-FiLM-Training.ipynb\" target=\"_parent\"><img src=\"https://colab.research.google.com/assets/colab-badge.svg\" alt=\"Open In Colab\"/></a>"
      ]
    },
    {
      "cell_type": "code",
      "execution_count": 1,
      "id": "WPy4XKZqRhXI",
      "metadata": {
        "colab": {
          "base_uri": "https://localhost:8080/"
        },
        "id": "WPy4XKZqRhXI",
        "outputId": "e699da6f-29b7-4074-e789-0bf2479c5fde"
      },
      "outputs": [
        {
          "output_type": "stream",
          "name": "stdout",
          "text": [
            "Mounted at /content/drive\n"
          ]
        }
      ],
      "source": [
        "from google.colab import drive\n",
        "drive.mount('/content/drive')"
      ]
    },
    {
      "cell_type": "code",
      "execution_count": 2,
      "id": "gwVlGFyGSAVS",
      "metadata": {
        "colab": {
          "base_uri": "https://localhost:8080/"
        },
        "id": "gwVlGFyGSAVS",
        "outputId": "051adcee-1ff0-42c2-b8c4-2e6d1fcef6fb",
        "collapsed": true
      },
      "outputs": [
        {
          "output_type": "stream",
          "name": "stdout",
          "text": [
            "Cloning into '/content/Thesis_Project'...\n",
            "remote: Enumerating objects: 976, done.\u001b[K\n",
            "remote: Counting objects: 100% (191/191), done.\u001b[K\n",
            "remote: Compressing objects: 100% (171/171), done.\u001b[K\n",
            "remote: Total 976 (delta 89), reused 20 (delta 20), pack-reused 785 (from 3)\u001b[K\n",
            "Receiving objects: 100% (976/976), 506.95 KiB | 29.82 MiB/s, done.\n",
            "Resolving deltas: 100% (550/550), done.\n",
            "Already up to date.\n"
          ]
        }
      ],
      "source": [
        "import os\n",
        "COLAB_PROJECT_ROOT = '/content/Thesis_Project'\n",
        "if not os.path.exists(COLAB_PROJECT_ROOT):\n",
        "  !git clone https://github.com/nahubn1/Hybrid-Robot-Navigation-System {COLAB_PROJECT_ROOT}\n",
        "os.chdir(COLAB_PROJECT_ROOT) # Change directory into the project\n",
        "!git pull # Ensure it's the latest version"
      ]
    },
    {
      "cell_type": "code",
      "execution_count": 3,
      "id": "QMwq7BT7SIqp",
      "metadata": {
        "colab": {
          "base_uri": "https://localhost:8080/"
        },
        "id": "QMwq7BT7SIqp",
        "outputId": "654fbc56-f378-4e3e-ccc5-9916acafaacb"
      },
      "outputs": [
        {
          "output_type": "stream",
          "name": "stdout",
          "text": [
            "Collecting pybullet==3.2.7 (from -r environment/requirements.txt (line 1))\n",
            "  Downloading pybullet-3.2.7-cp311-cp311-manylinux_2_17_x86_64.manylinux2014_x86_64.whl.metadata (1.8 kB)\n",
            "Requirement already satisfied: numpy>=1.24 in /usr/local/lib/python3.11/dist-packages (from -r environment/requirements.txt (line 2)) (2.0.2)\n",
            "Requirement already satisfied: pyyaml>=6.0 in /usr/local/lib/python3.11/dist-packages (from -r environment/requirements.txt (line 3)) (6.0.2)\n",
            "Requirement already satisfied: networkx>=3.1 in /usr/local/lib/python3.11/dist-packages (from -r environment/requirements.txt (line 4)) (3.5)\n",
            "Requirement already satisfied: pytest>=8.0 in /usr/local/lib/python3.11/dist-packages (from -r environment/requirements.txt (line 5)) (8.3.5)\n",
            "Requirement already satisfied: matplotlib>=3.8 in /usr/local/lib/python3.11/dist-packages (from -r environment/requirements.txt (line 6)) (3.10.0)\n",
            "Requirement already satisfied: pillow>=10.0 in /usr/local/lib/python3.11/dist-packages (from -r environment/requirements.txt (line 7)) (11.2.1)\n",
            "Requirement already satisfied: tqdm>=4.66 in /usr/local/lib/python3.11/dist-packages (from -r environment/requirements.txt (line 8)) (4.67.1)\n",
            "Requirement already satisfied: scipy>=1.11 in /usr/local/lib/python3.11/dist-packages (from -r environment/requirements.txt (line 9)) (1.15.3)\n",
            "Requirement already satisfied: filelock>=3.13 in /usr/local/lib/python3.11/dist-packages (from -r environment/requirements.txt (line 10)) (3.18.0)\n",
            "Requirement already satisfied: torch>=2.0 in /usr/local/lib/python3.11/dist-packages (from -r environment/requirements.txt (line 11)) (2.6.0+cu124)\n",
            "Requirement already satisfied: iniconfig in /usr/local/lib/python3.11/dist-packages (from pytest>=8.0->-r environment/requirements.txt (line 5)) (2.1.0)\n",
            "Requirement already satisfied: packaging in /usr/local/lib/python3.11/dist-packages (from pytest>=8.0->-r environment/requirements.txt (line 5)) (25.0)\n",
            "Requirement already satisfied: pluggy<2,>=1.5 in /usr/local/lib/python3.11/dist-packages (from pytest>=8.0->-r environment/requirements.txt (line 5)) (1.6.0)\n",
            "Requirement already satisfied: contourpy>=1.0.1 in /usr/local/lib/python3.11/dist-packages (from matplotlib>=3.8->-r environment/requirements.txt (line 6)) (1.3.2)\n",
            "Requirement already satisfied: cycler>=0.10 in /usr/local/lib/python3.11/dist-packages (from matplotlib>=3.8->-r environment/requirements.txt (line 6)) (0.12.1)\n",
            "Requirement already satisfied: fonttools>=4.22.0 in /usr/local/lib/python3.11/dist-packages (from matplotlib>=3.8->-r environment/requirements.txt (line 6)) (4.58.5)\n",
            "Requirement already satisfied: kiwisolver>=1.3.1 in /usr/local/lib/python3.11/dist-packages (from matplotlib>=3.8->-r environment/requirements.txt (line 6)) (1.4.8)\n",
            "Requirement already satisfied: pyparsing>=2.3.1 in /usr/local/lib/python3.11/dist-packages (from matplotlib>=3.8->-r environment/requirements.txt (line 6)) (3.2.3)\n",
            "Requirement already satisfied: python-dateutil>=2.7 in /usr/local/lib/python3.11/dist-packages (from matplotlib>=3.8->-r environment/requirements.txt (line 6)) (2.9.0.post0)\n",
            "Requirement already satisfied: typing-extensions>=4.10.0 in /usr/local/lib/python3.11/dist-packages (from torch>=2.0->-r environment/requirements.txt (line 11)) (4.14.1)\n",
            "Requirement already satisfied: jinja2 in /usr/local/lib/python3.11/dist-packages (from torch>=2.0->-r environment/requirements.txt (line 11)) (3.1.6)\n",
            "Requirement already satisfied: fsspec in /usr/local/lib/python3.11/dist-packages (from torch>=2.0->-r environment/requirements.txt (line 11)) (2025.3.2)\n",
            "Collecting nvidia-cuda-nvrtc-cu12==12.4.127 (from torch>=2.0->-r environment/requirements.txt (line 11))\n",
            "  Downloading nvidia_cuda_nvrtc_cu12-12.4.127-py3-none-manylinux2014_x86_64.whl.metadata (1.5 kB)\n",
            "Collecting nvidia-cuda-runtime-cu12==12.4.127 (from torch>=2.0->-r environment/requirements.txt (line 11))\n",
            "  Downloading nvidia_cuda_runtime_cu12-12.4.127-py3-none-manylinux2014_x86_64.whl.metadata (1.5 kB)\n",
            "Collecting nvidia-cuda-cupti-cu12==12.4.127 (from torch>=2.0->-r environment/requirements.txt (line 11))\n",
            "  Downloading nvidia_cuda_cupti_cu12-12.4.127-py3-none-manylinux2014_x86_64.whl.metadata (1.6 kB)\n",
            "Collecting nvidia-cudnn-cu12==9.1.0.70 (from torch>=2.0->-r environment/requirements.txt (line 11))\n",
            "  Downloading nvidia_cudnn_cu12-9.1.0.70-py3-none-manylinux2014_x86_64.whl.metadata (1.6 kB)\n",
            "Collecting nvidia-cublas-cu12==12.4.5.8 (from torch>=2.0->-r environment/requirements.txt (line 11))\n",
            "  Downloading nvidia_cublas_cu12-12.4.5.8-py3-none-manylinux2014_x86_64.whl.metadata (1.5 kB)\n",
            "Collecting nvidia-cufft-cu12==11.2.1.3 (from torch>=2.0->-r environment/requirements.txt (line 11))\n",
            "  Downloading nvidia_cufft_cu12-11.2.1.3-py3-none-manylinux2014_x86_64.whl.metadata (1.5 kB)\n",
            "Collecting nvidia-curand-cu12==10.3.5.147 (from torch>=2.0->-r environment/requirements.txt (line 11))\n",
            "  Downloading nvidia_curand_cu12-10.3.5.147-py3-none-manylinux2014_x86_64.whl.metadata (1.5 kB)\n",
            "Collecting nvidia-cusolver-cu12==11.6.1.9 (from torch>=2.0->-r environment/requirements.txt (line 11))\n",
            "  Downloading nvidia_cusolver_cu12-11.6.1.9-py3-none-manylinux2014_x86_64.whl.metadata (1.6 kB)\n",
            "Collecting nvidia-cusparse-cu12==12.3.1.170 (from torch>=2.0->-r environment/requirements.txt (line 11))\n",
            "  Downloading nvidia_cusparse_cu12-12.3.1.170-py3-none-manylinux2014_x86_64.whl.metadata (1.6 kB)\n",
            "Requirement already satisfied: nvidia-cusparselt-cu12==0.6.2 in /usr/local/lib/python3.11/dist-packages (from torch>=2.0->-r environment/requirements.txt (line 11)) (0.6.2)\n",
            "Requirement already satisfied: nvidia-nccl-cu12==2.21.5 in /usr/local/lib/python3.11/dist-packages (from torch>=2.0->-r environment/requirements.txt (line 11)) (2.21.5)\n",
            "Requirement already satisfied: nvidia-nvtx-cu12==12.4.127 in /usr/local/lib/python3.11/dist-packages (from torch>=2.0->-r environment/requirements.txt (line 11)) (12.4.127)\n",
            "Collecting nvidia-nvjitlink-cu12==12.4.127 (from torch>=2.0->-r environment/requirements.txt (line 11))\n",
            "  Downloading nvidia_nvjitlink_cu12-12.4.127-py3-none-manylinux2014_x86_64.whl.metadata (1.5 kB)\n",
            "Requirement already satisfied: triton==3.2.0 in /usr/local/lib/python3.11/dist-packages (from torch>=2.0->-r environment/requirements.txt (line 11)) (3.2.0)\n",
            "Requirement already satisfied: sympy==1.13.1 in /usr/local/lib/python3.11/dist-packages (from torch>=2.0->-r environment/requirements.txt (line 11)) (1.13.1)\n",
            "Requirement already satisfied: mpmath<1.4,>=1.1.0 in /usr/local/lib/python3.11/dist-packages (from sympy==1.13.1->torch>=2.0->-r environment/requirements.txt (line 11)) (1.3.0)\n",
            "Requirement already satisfied: six>=1.5 in /usr/local/lib/python3.11/dist-packages (from python-dateutil>=2.7->matplotlib>=3.8->-r environment/requirements.txt (line 6)) (1.17.0)\n",
            "Requirement already satisfied: MarkupSafe>=2.0 in /usr/local/lib/python3.11/dist-packages (from jinja2->torch>=2.0->-r environment/requirements.txt (line 11)) (3.0.2)\n",
            "Downloading pybullet-3.2.7-cp311-cp311-manylinux_2_17_x86_64.manylinux2014_x86_64.whl (103.2 MB)\n",
            "\u001b[2K   \u001b[90m━━━━━━━━━━━━━━━━━━━━━━━━━━━━━━━━━━━━━━━━\u001b[0m \u001b[32m103.2/103.2 MB\u001b[0m \u001b[31m14.6 MB/s\u001b[0m eta \u001b[36m0:00:00\u001b[0m\n",
            "\u001b[?25hDownloading nvidia_cublas_cu12-12.4.5.8-py3-none-manylinux2014_x86_64.whl (363.4 MB)\n",
            "\u001b[2K   \u001b[90m━━━━━━━━━━━━━━━━━━━━━━━━━━━━━━━━━━━━━━━━\u001b[0m \u001b[32m363.4/363.4 MB\u001b[0m \u001b[31m3.3 MB/s\u001b[0m eta \u001b[36m0:00:00\u001b[0m\n",
            "\u001b[?25hDownloading nvidia_cuda_cupti_cu12-12.4.127-py3-none-manylinux2014_x86_64.whl (13.8 MB)\n",
            "\u001b[2K   \u001b[90m━━━━━━━━━━━━━━━━━━━━━━━━━━━━━━━━━━━━━━━━\u001b[0m \u001b[32m13.8/13.8 MB\u001b[0m \u001b[31m112.8 MB/s\u001b[0m eta \u001b[36m0:00:00\u001b[0m\n",
            "\u001b[?25hDownloading nvidia_cuda_nvrtc_cu12-12.4.127-py3-none-manylinux2014_x86_64.whl (24.6 MB)\n",
            "\u001b[2K   \u001b[90m━━━━━━━━━━━━━━━━━━━━━━━━━━━━━━━━━━━━━━━━\u001b[0m \u001b[32m24.6/24.6 MB\u001b[0m \u001b[31m95.6 MB/s\u001b[0m eta \u001b[36m0:00:00\u001b[0m\n",
            "\u001b[?25hDownloading nvidia_cuda_runtime_cu12-12.4.127-py3-none-manylinux2014_x86_64.whl (883 kB)\n",
            "\u001b[2K   \u001b[90m━━━━━━━━━━━━━━━━━━━━━━━━━━━━━━━━━━━━━━━━\u001b[0m \u001b[32m883.7/883.7 kB\u001b[0m \u001b[31m51.0 MB/s\u001b[0m eta \u001b[36m0:00:00\u001b[0m\n",
            "\u001b[?25hDownloading nvidia_cudnn_cu12-9.1.0.70-py3-none-manylinux2014_x86_64.whl (664.8 MB)\n",
            "\u001b[2K   \u001b[90m━━━━━━━━━━━━━━━━━━━━━━━━━━━━━━━━━━━━━━━━\u001b[0m \u001b[32m664.8/664.8 MB\u001b[0m \u001b[31m2.3 MB/s\u001b[0m eta \u001b[36m0:00:00\u001b[0m\n",
            "\u001b[?25hDownloading nvidia_cufft_cu12-11.2.1.3-py3-none-manylinux2014_x86_64.whl (211.5 MB)\n",
            "\u001b[2K   \u001b[90m━━━━━━━━━━━━━━━━━━━━━━━━━━━━━━━━━━━━━━━━\u001b[0m \u001b[32m211.5/211.5 MB\u001b[0m \u001b[31m4.8 MB/s\u001b[0m eta \u001b[36m0:00:00\u001b[0m\n",
            "\u001b[?25hDownloading nvidia_curand_cu12-10.3.5.147-py3-none-manylinux2014_x86_64.whl (56.3 MB)\n",
            "\u001b[2K   \u001b[90m━━━━━━━━━━━━━━━━━━━━━━━━━━━━━━━━━━━━━━━━\u001b[0m \u001b[32m56.3/56.3 MB\u001b[0m \u001b[31m42.0 MB/s\u001b[0m eta \u001b[36m0:00:00\u001b[0m\n",
            "\u001b[?25hDownloading nvidia_cusolver_cu12-11.6.1.9-py3-none-manylinux2014_x86_64.whl (127.9 MB)\n",
            "\u001b[2K   \u001b[90m━━━━━━━━━━━━━━━━━━━━━━━━━━━━━━━━━━━━━━━━\u001b[0m \u001b[32m127.9/127.9 MB\u001b[0m \u001b[31m19.2 MB/s\u001b[0m eta \u001b[36m0:00:00\u001b[0m\n",
            "\u001b[?25hDownloading nvidia_cusparse_cu12-12.3.1.170-py3-none-manylinux2014_x86_64.whl (207.5 MB)\n",
            "\u001b[2K   \u001b[90m━━━━━━━━━━━━━━━━━━━━━━━━━━━━━━━━━━━━━━━━\u001b[0m \u001b[32m207.5/207.5 MB\u001b[0m \u001b[31m5.1 MB/s\u001b[0m eta \u001b[36m0:00:00\u001b[0m\n",
            "\u001b[?25hDownloading nvidia_nvjitlink_cu12-12.4.127-py3-none-manylinux2014_x86_64.whl (21.1 MB)\n",
            "\u001b[2K   \u001b[90m━━━━━━━━━━━━━━━━━━━━━━━━━━━━━━━━━━━━━━━━\u001b[0m \u001b[32m21.1/21.1 MB\u001b[0m \u001b[31m102.2 MB/s\u001b[0m eta \u001b[36m0:00:00\u001b[0m\n",
            "\u001b[?25hInstalling collected packages: pybullet, nvidia-nvjitlink-cu12, nvidia-curand-cu12, nvidia-cufft-cu12, nvidia-cuda-runtime-cu12, nvidia-cuda-nvrtc-cu12, nvidia-cuda-cupti-cu12, nvidia-cublas-cu12, nvidia-cusparse-cu12, nvidia-cudnn-cu12, nvidia-cusolver-cu12\n",
            "  Attempting uninstall: nvidia-nvjitlink-cu12\n",
            "    Found existing installation: nvidia-nvjitlink-cu12 12.5.82\n",
            "    Uninstalling nvidia-nvjitlink-cu12-12.5.82:\n",
            "      Successfully uninstalled nvidia-nvjitlink-cu12-12.5.82\n",
            "  Attempting uninstall: nvidia-curand-cu12\n",
            "    Found existing installation: nvidia-curand-cu12 10.3.6.82\n",
            "    Uninstalling nvidia-curand-cu12-10.3.6.82:\n",
            "      Successfully uninstalled nvidia-curand-cu12-10.3.6.82\n",
            "  Attempting uninstall: nvidia-cufft-cu12\n",
            "    Found existing installation: nvidia-cufft-cu12 11.2.3.61\n",
            "    Uninstalling nvidia-cufft-cu12-11.2.3.61:\n",
            "      Successfully uninstalled nvidia-cufft-cu12-11.2.3.61\n",
            "  Attempting uninstall: nvidia-cuda-runtime-cu12\n",
            "    Found existing installation: nvidia-cuda-runtime-cu12 12.5.82\n",
            "    Uninstalling nvidia-cuda-runtime-cu12-12.5.82:\n",
            "      Successfully uninstalled nvidia-cuda-runtime-cu12-12.5.82\n",
            "  Attempting uninstall: nvidia-cuda-nvrtc-cu12\n",
            "    Found existing installation: nvidia-cuda-nvrtc-cu12 12.5.82\n",
            "    Uninstalling nvidia-cuda-nvrtc-cu12-12.5.82:\n",
            "      Successfully uninstalled nvidia-cuda-nvrtc-cu12-12.5.82\n",
            "  Attempting uninstall: nvidia-cuda-cupti-cu12\n",
            "    Found existing installation: nvidia-cuda-cupti-cu12 12.5.82\n",
            "    Uninstalling nvidia-cuda-cupti-cu12-12.5.82:\n",
            "      Successfully uninstalled nvidia-cuda-cupti-cu12-12.5.82\n",
            "  Attempting uninstall: nvidia-cublas-cu12\n",
            "    Found existing installation: nvidia-cublas-cu12 12.5.3.2\n",
            "    Uninstalling nvidia-cublas-cu12-12.5.3.2:\n",
            "      Successfully uninstalled nvidia-cublas-cu12-12.5.3.2\n",
            "  Attempting uninstall: nvidia-cusparse-cu12\n",
            "    Found existing installation: nvidia-cusparse-cu12 12.5.1.3\n",
            "    Uninstalling nvidia-cusparse-cu12-12.5.1.3:\n",
            "      Successfully uninstalled nvidia-cusparse-cu12-12.5.1.3\n",
            "  Attempting uninstall: nvidia-cudnn-cu12\n",
            "    Found existing installation: nvidia-cudnn-cu12 9.3.0.75\n",
            "    Uninstalling nvidia-cudnn-cu12-9.3.0.75:\n",
            "      Successfully uninstalled nvidia-cudnn-cu12-9.3.0.75\n",
            "  Attempting uninstall: nvidia-cusolver-cu12\n",
            "    Found existing installation: nvidia-cusolver-cu12 11.6.3.83\n",
            "    Uninstalling nvidia-cusolver-cu12-11.6.3.83:\n",
            "      Successfully uninstalled nvidia-cusolver-cu12-11.6.3.83\n",
            "Successfully installed nvidia-cublas-cu12-12.4.5.8 nvidia-cuda-cupti-cu12-12.4.127 nvidia-cuda-nvrtc-cu12-12.4.127 nvidia-cuda-runtime-cu12-12.4.127 nvidia-cudnn-cu12-9.1.0.70 nvidia-cufft-cu12-11.2.1.3 nvidia-curand-cu12-10.3.5.147 nvidia-cusolver-cu12-11.6.1.9 nvidia-cusparse-cu12-12.3.1.170 nvidia-nvjitlink-cu12-12.4.127 pybullet-3.2.7\n"
          ]
        }
      ],
      "source": [
        "!pip install -r environment/requirements.txt"
      ]
    },
    {
      "cell_type": "code",
      "execution_count": 4,
      "id": "uwyQkuZ5SNig",
      "metadata": {
        "colab": {
          "base_uri": "https://localhost:8080/"
        },
        "id": "uwyQkuZ5SNig",
        "outputId": "85aeb49d-dc75-4f6b-aab7-e0a1ed3004bf"
      },
      "outputs": [
        {
          "output_type": "stream",
          "name": "stdout",
          "text": [
            "✅ Environment setup complete.\n"
          ]
        }
      ],
      "source": [
        "import sys\n",
        "# Add src to path\n",
        "sys.path.append(os.path.join(os.getcwd(), 'src'))\n",
        "\n",
        "# Define Drive paths\n",
        "DRIVE_DATA_PATH = '/content/drive/MyDrive/Thesis_DNN_Planner/data'\n",
        "DRIVE_MODELS_PATH = '/content/drive/MyDrive/Thesis_DNN_Planner/models'\n",
        "DRIVE_RESULTS_PATH = '/content/drive/MyDrive/Thesis_DNN_Planner/results'\n",
        "\n",
        "# Link Drive storage to local cloned directories\n",
        "if not os.path.islink('data'):\n",
        "    !ln -s {DRIVE_DATA_PATH} data\n",
        "if not os.path.islink('models'):\n",
        "    !ln -s {DRIVE_MODELS_PATH} models\n",
        "if not os.path.islink('results'):\n",
        "    !ln -s {DRIVE_RESULTS_PATH} results\n",
        "\n",
        "print(\"✅ Environment setup complete.\")"
      ]
    },
    {
      "cell_type": "code",
      "execution_count": 5,
      "id": "289ecf05",
      "metadata": {
        "id": "289ecf05",
        "outputId": "3781a467-e94e-474f-cd7f-a8f535493441",
        "colab": {
          "base_uri": "https://localhost:8080/"
        }
      },
      "outputs": [
        {
          "output_type": "stream",
          "name": "stdout",
          "text": [
            "Logits shape: torch.Size([1, 1, 200, 200])\n",
            "Loss: 0.6155796051025391\n",
            "✅ Phase 2 Sanity Check Passed: Model, data pipeline, and loss function are fully integrated and functional.\n"
          ]
        }
      ],
      "source": [
        "import torch\n",
        "import numpy as np\n",
        "from pathlib import Path\n",
        "from torch.utils.data import DataLoader\n",
  "from dnn_guidance.data_loader import PathfindingDataset\n",
  "from dnn_guidance.model import ResNetFPNFiLM\n",
        "from dnn_guidance.loss import DiceFocalLoss\n",
        "\n",
        "# Create a temporary minimal dataset\n",
        "_temp_root = Path('tmp_sanity_data')\n",
        "_samples = _temp_root/'samples'\n",
        "_gt = _temp_root/'gt'\n",
        "_samples.mkdir(parents=True, exist_ok=True)\n",
        "_gt.mkdir(parents=True, exist_ok=True)\n",
        "\n",
        "grid = np.zeros((200, 200), dtype=np.uint8)\n",
        "grid[0, 0] = 8  # start\n",
        "grid[-1, -1] = 9  # goal\n",
        "np.savez(_samples/'sample0.npz', map=grid, clearance=2.0, step_size=8.0, config=np.array([]))\n",
        "heatmap = np.zeros((200, 200), dtype=np.float32)\n",
        "np.savez(_gt/'sample0.npz', heatmap=heatmap)\n",
        "\n",
        "# Build dataset and dataloader\n",
        "dataset = PathfindingDataset(_samples, _gt)\n",
        "loader = DataLoader(dataset, batch_size=1)\n",
        "\n",
        "device = torch.device('cuda' if torch.cuda.is_available() else 'cpu')\n",
  "model = ResNetFPNFiLM().to(device)\n",
        "criterion = DiceFocalLoss()\n",
        "\n",
        "(grid_batch, robot_batch), target_batch = next(iter(loader))\n",
        "grid_batch = grid_batch.to(device)\n",
        "robot_batch = robot_batch.to(device)\n",
        "target_batch = target_batch.to(device)\n",
        "\n",
        "logits = model(grid_batch, robot_batch)\n",
        "print('Logits shape:', logits.shape)\n",
        "loss = criterion(logits, target_batch)\n",
        "print('Loss:', loss.item())\n",
        "\n",
        "assert logits.shape == (1, 1, 200, 200)\n",
        "assert loss.dim() == 0\n",
        "\n",
        "loss.backward()\n",
        "print('✅ Phase 2 Sanity Check Passed: Model, data pipeline, and loss function are fully integrated and functional.')"
      ]
    },
    {
      "cell_type": "code",
      "execution_count": 7,
      "id": "3d41c564",
      "metadata": {
        "id": "3d41c564",
        "outputId": "a85825d4-4cfc-4e47-9202-019dcd828efc",
        "colab": {
          "base_uri": "https://localhost:8080/"
        }
      },
      "outputs": [
        {
          "output_type": "stream",
          "name": "stdout",
          "text": [
            "Configuration loaded from configs/dnn/diffusion_unet_v1_baseline.yaml.\n"
          ]
        }
      ],
      "source": [
        "import yaml\n",
        "from pathlib import Path\n",
        "\n",
  "CONFIG_PATH = 'configs/dnn/resnet_fpn_film_v1_baseline.yaml'\n",
        "with open(CONFIG_PATH, 'r') as f:\n",
        "    cfg = yaml.safe_load(f)\n",
        "print(f'Configuration loaded from {CONFIG_PATH}.')"
      ]
    },
    {
      "cell_type": "code",
      "execution_count": 8,
      "id": "011ecb42",
      "metadata": {
        "id": "011ecb42",
        "outputId": "55077cf0-f781-4a4e-e503-e6057defad17",
        "colab": {
          "base_uri": "https://localhost:8080/"
        }
      },
      "outputs": [
        {
          "output_type": "stream",
          "name": "stdout",
          "text": [
            "Random seed set to 42.\n"
          ]
        }
      ],
      "source": [
        "import random\n",
        "import numpy as np\n",
        "import torch\n",
        "\n",
        "seed = cfg.get('seed', 0)\n",
        "random.seed(seed)\n",
        "np.random.seed(seed)\n",
        "torch.manual_seed(seed)\n",
        "if torch.cuda.is_available():\n",
        "    torch.cuda.manual_seed_all(seed)\n",
        "print(f'Random seed set to {seed}.')"
      ]
    },
    {
      "cell_type": "code",
      "execution_count": 9,
      "id": "ce1588cf",
      "metadata": {
        "id": "ce1588cf",
        "outputId": "dc434145-3108-47cc-c8a0-74c17d965fde",
        "colab": {
          "base_uri": "https://localhost:8080/"
        }
      },
      "outputs": [
        {
          "output_type": "stream",
          "name": "stdout",
          "text": [
            "DataLoaders created.\n"
          ]
        }
      ],
      "source": [
        "from sklearn.model_selection import train_test_split\n",
        "from torch.utils.data import DataLoader\n",
        "from dnn_guidance.data_loader import PathfindingDataset, _pair_files\n",
        "\n",
        "samples_dir = DRIVE_DATA_PATH / Path(cfg['samples_dir'])\n",
        "gt_dir = DRIVE_DATA_PATH / Path(cfg['ground_truth_dir'])\n",
        "all_pairs = _pair_files(samples_dir, gt_dir)\n",
        "train_pairs, val_pairs = train_test_split(all_pairs, test_size=cfg['val_split'], random_state=seed)\n",
        "train_dataset = PathfindingDataset(samples_dir, gt_dir, augment=True)\n",
        "val_dataset = PathfindingDataset(samples_dir, gt_dir, augment=False)\n",
        "train_dataset.pairs = train_pairs\n",
        "val_dataset.pairs = val_pairs\n",
        "train_loader = DataLoader(train_dataset, batch_size=cfg['batch_size'], shuffle=True, num_workers=cfg['num_workers'])\n",
        "val_loader = DataLoader(val_dataset, batch_size=cfg['batch_size'], shuffle=False, num_workers=cfg['num_workers'])\n",
        "print('DataLoaders created.')"
      ]
    },
    {
      "cell_type": "code",
      "execution_count": 11,
      "id": "9bdc5072",
      "metadata": {
        "id": "9bdc5072",
        "outputId": "bd03cfb6-776b-47f0-d93d-3510d0db960b",
        "colab": {
          "base_uri": "https://localhost:8080/"
        }
      },
      "outputs": [
        {
          "output_type": "stream",
          "name": "stdout",
          "text": [
            "ay zare ken\n",
            "Model diffusion_unet loaded onto cuda.\n"
          ]
        }
      ],
      "source": [
        "from dnn_guidance.model import create_model\n",
        "\n",
  "model_name = cfg.get('model_name', 'unet_film')\n",
  "if model_name == 'hr_film_net':\n",
  "    cfg_file = 'configs/dnn/hr_film_net.yaml'\n",
  "elif model_name == 'diffusion_unet':\n",
  "    cfg_file = 'configs/dnn/diffusion_unet.yaml'\n",
  "elif model_name == 'resnet_fpn_film':\n",
  "    cfg_file = 'configs/dnn/resnet_fpn_film.yaml'\n",
  "else:\n",
  "    cfg_file = 'configs/dnn/unet_film.yaml'\n",
        "model = create_model(model_name, cfg_file)\n",
        "device = torch.device(cfg['device'])\n",
        "model = model.to(device)\n",
        "print(f'Model {model_name} loaded onto {device}.')"
      ]
    },
    {
      "cell_type": "code",
      "execution_count": null,
      "id": "dae9fbbf",
      "metadata": {
        "id": "dae9fbbf",
        "outputId": "c87ef8fb-3c2a-49e3-ac67-9161ebe50085",
        "colab": {
          "base_uri": "https://localhost:8080/"
        }
      },
      "outputs": [
        {
          "output_type": "stream",
          "name": "stdout",
          "text": [
            "Optimizer and Scheduler initialized.\n"
          ]
        }
      ],
      "source": [
        "import torch.optim as optim\n",
        "\n",
        "opt_name = cfg['optimizer']['name']\n",
        "optimizer_cls = getattr(optim, opt_name)\n",
        "optimizer = optimizer_cls(model.parameters(), lr=cfg['optimizer']['lr'], weight_decay=cfg['optimizer']['weight_decay'])\n",
        "scheduler = None\n",
        "if cfg['scheduler']['name'] == 'CosineAnnealing':\n",
        "    t_max = cfg['epochs'] - cfg['scheduler']['warmup_epochs']\n",
        "    scheduler = optim.lr_scheduler.CosineAnnealingLR(optimizer, T_max=t_max)\n",
        "print('Optimizer and Scheduler initialized.')"
      ]
    },
    {
      "cell_type": "code",
      "execution_count": null,
      "id": "5262d268",
      "metadata": {
        "id": "5262d268",
        "outputId": "32349571-d928-4db0-b06d-9b9a8004e2f0",
        "colab": {
          "base_uri": "https://localhost:8080/"
        }
      },
      "outputs": [
        {
          "output_type": "stream",
          "name": "stdout",
          "text": [
            "Loss function initialized.\n"
          ]
        }
      ],
      "source": [
        "from dnn_guidance.loss import DiceFocalLoss\n",
        "\n",
        "loss_cfg = cfg['loss']\n",
        "loss_fn = DiceFocalLoss(dice_weight=loss_cfg['dice_weight'], focal_weight=loss_cfg['focal_weight'], focal_gamma=loss_cfg['focal_gamma'])\n",
        "print('Loss function initialized.')"
      ]
    },
    {
      "cell_type": "code",
      "execution_count": null,
      "id": "275102c5",
      "metadata": {
        "id": "275102c5",
        "outputId": "eaaded4f-5fc0-4c3d-dbcf-1f06283dc6b9",
        "colab": {
          "base_uri": "https://localhost:8080/"
        }
      },
      "outputs": [
        {
          "output_type": "stream",
          "name": "stderr",
          "text": [
            "/tmp/ipython-input-16-2398197603.py:19: FutureWarning: `torch.cuda.amp.GradScaler(args...)` is deprecated. Please use `torch.amp.GradScaler('cuda', args...)` instead.\n",
            "  scaler = GradScaler(enabled=cfg.get('use_amp', True))\n"
          ]
        },
        {
          "output_type": "stream",
          "name": "stdout",
          "text": [
            "Resumed from epoch 50\n"
          ]
        }
      ],
      "source": [
        "from datetime import datetime\n",
        "from pathlib import Path\n",
        "from torch.utils.tensorboard import SummaryWriter\n",
        "from torch.cuda.amp import GradScaler\n",
        "from dnn_guidance.trainer import train_one_epoch, validate_one_epoch\n",
        "\n",
        "# Directories for logging and checkpoints\n",
        "timestamp = datetime.now().strftime(\"%Y%m%d_%H%M%S\")\n",
        "log_root = DRIVE_RESULTS_PATH / Path(cfg['log_dir'])\n",
        "log_dir = log_root / f\"{cfg['run_name']}_{timestamp}\"\n",
        "log_dir.mkdir(parents=True, exist_ok=True)\n",
        "writer = SummaryWriter(log_dir)\n",
        "\n",
        "ckpt_dir = DRIVE_RESULTS_PATH / Path(cfg['checkpoints_dir'])\n",
        "ckpt_dir.mkdir(parents=True, exist_ok=True)\n",
        "best_model_path = ckpt_dir / f\"{cfg['run_name']}_best_model.pth\"\n",
        "latest_ckpt = ckpt_dir / f\"{cfg['run_name']}_latest.pth\"\n",
        "\n",
        "scaler = GradScaler(enabled=cfg.get('use_amp', True))\n",
        "best_dice = -1.0\n",
        "epochs_no_improve = 0\n",
        "start_epoch = 0\n",
        "\n",
        "# Resume from checkpoint if available\n",
        "if latest_ckpt.exists():\n",
        "    ckpt = torch.load(latest_ckpt, map_location=device)\n",
        "    model.load_state_dict(ckpt['model'])\n",
        "    optimizer.load_state_dict(ckpt['optimizer'])\n",
        "    if scheduler and ckpt.get('scheduler'):\n",
        "        scheduler.load_state_dict(ckpt['scheduler'])\n",
        "    scaler.load_state_dict(ckpt.get('scaler', {}))\n",
        "    start_epoch = ckpt.get('epoch', 0) + 1\n",
        "    best_dice = ckpt.get('best_dice', -1.0)\n",
        "    epochs_no_improve = ckpt.get('epochs_no_improve', 0)\n",
        "    print(f\"Resumed from epoch {start_epoch}\")"
      ]
    },
    {
      "cell_type": "code",
      "execution_count": null,
      "id": "9762b52f",
      "metadata": {
        "id": "9762b52f"
      },
      "outputs": [],
      "source": [
        "for epoch in range(start_epoch, cfg['epochs']):\n",
        "    print(f\"--- Epoch {epoch+1}/{cfg['epochs']} ---\")\n",
        "    train_loss = train_one_epoch(model, train_loader, optimizer, loss_fn, device, scaler)\n",
        "    val_loss, val_dice = validate_one_epoch(model, val_loader, loss_fn, device)\n",
        "    if scheduler:\n",
        "        scheduler.step()\n",
        "    lr = optimizer.param_groups[0]['lr']\n",
        "\n",
        "    writer.add_scalar('loss/train', train_loss, epoch)\n",
        "    writer.add_scalar('loss/val', val_loss, epoch)\n",
        "    writer.add_scalar('dice/val', val_dice, epoch)\n",
        "    writer.add_scalar('lr', lr, epoch)\n",
        "    print(f\"Train Loss: {train_loss:.4f} | Val Loss: {val_loss:.4f} | Val Dice: {val_dice:.4f} | LR: {lr:.6f}\")\n",
        "\n",
        "    improved = val_dice > best_dice\n",
        "    if improved:\n",
        "        best_dice = val_dice\n",
        "        torch.save(model.state_dict(), best_model_path)\n",
        "        print(\"New best model found, saving checkpoint...\")\n",
        "        epochs_no_improve = 0\n",
        "    else:\n",
        "        epochs_no_improve += 1\n",
        "        print(f\"No improvement for {epochs_no_improve} epochs...\")\n",
        "\n",
        "    torch.save({\n",
        "        'epoch': epoch,\n",
        "        'model': model.state_dict(),\n",
        "        'optimizer': optimizer.state_dict(),\n",
        "        'scheduler': scheduler.state_dict() if scheduler else None,\n",
        "        'scaler': scaler.state_dict(),\n",
        "        'best_dice': best_dice,\n",
        "        'epochs_no_improve': epochs_no_improve\n",
        "    }, latest_ckpt)\n",
        "\n",
        "    if epochs_no_improve >= cfg['early_stop_patience']:\n",
        "        print('Early stopping triggered.')\n",
        "        break\n",
        "\n",
        "writer.close()"
      ]
    }
  ],
  "metadata": {
    "colab": {
      "provenance": [],
      "gpuType": "L4",
      "machine_shape": "hm",
      "include_colab_link": true
    },
    "kernelspec": {
      "display_name": "Python 3",
      "name": "python3"
    },
    "language_info": {
      "name": "python"
    },
    "accelerator": "GPU"
  },
  "nbformat": 4,
  "nbformat_minor": 5
}